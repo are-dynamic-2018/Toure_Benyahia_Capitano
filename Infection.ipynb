{
 "cells": [
  {
   "cell_type": "code",
   "execution_count": 39,
   "metadata": {
    "collapsed": false
   },
   "outputs": [
    {
     "data": {
      "image/png": "[encoded data removed]",
      "text/plain": [
       "<matplotlib.figure.Figure at 0x7fdff3770390>"
      ]
     },
     "metadata": {},
     "output_type": "display_data"
    }
   ],
   "source": [
    "from pylab import *\n",
    "import random\n",
    "import math\n",
    "\n",
    "class Pays:\n",
    "    def __init__(self):\n",
    "        self.popt = 35000000\n",
    "        self.popinf = 100\n",
    "        self.pops = self.popt - 100\n",
    "        self.popm = 0\n",
    "        self.popimu = 35000000\n",
    "    \n",
    "    \n",
    "def infection(pays):\n",
    "    if pays.pops >= 0 or pays.popinf == 0:\n",
    "        nb_inf = sum(np.random.binomial(pays.popinf, 0.3,1000))/1000\n",
    "        nb_inf = int(floor(nb_inf))\n",
    "        pays.popinf = pays.popinf + nb_inf\n",
    "        pays.pops = pays.pops - nb_inf\n",
    "    \n",
    "def guerison(pays):\n",
    "    if pays.popinf >= 0:\n",
    "        nb_gue = sum(np.random.binomial(pays.popinf, 0.1, 1000)) / 1000\n",
    "        nb_gue = int(floor(nb_gue))\n",
    "        pays.popinf = pays.popinf - nb_gue\n",
    "        pays.popimu = pays.popimu + nb_gue\n",
    "\n",
    "    \n",
    "def main():\n",
    "    france = Pays()\n",
    "    i = 1\n",
    "    tab = []\n",
    "    while (i < 200):\n",
    "        tab.append(france.popinf)\n",
    "        infection(france)\n",
    "        guerison(france)\n",
    "        i = i + 1\n",
    "    plt.plot(tab)\n",
    "    plt.show()\n",
    "main()    "
   ]
  },
  {
   "cell_type": "code",
   "execution_count": 22,
   "metadata": {
    "collapsed": false
   },
   "outputs": [
    {
     "name": "stdout",
     "output_type": "stream",
     "text": [
      "[ 3  3  5  7  4  4  5  5  3  7  5  4  6  5  6  6  5  6  3  5  6  3  6  5  1\n",
      "  6  4  6  8  7  3  7  4  3  4  5  4  5  8  3  6  6  4  8  6  7  3  7  6  3\n",
      "  3  6  5  4  4  6  5  2  5  5  4  7  5  5  5  4  5  6  5  7  6  8  4  4  6\n",
      "  3  7  6  6  5  5  7  5  7  5  3  6  5  4  6  2  4  5  5  6  4  4  5  5  7\n",
      "  4  5  3  5  3  4  5  7  5  6  5  4  1  6  4  7  5  6  6  5  2  4  4  2  2\n",
      " 10  4  6  6  7  3  4  7  3  3  6  4  6  5  4  4  4  6  4  6  5  3  7  4  6\n",
      "  5  7  5  6  5  6  6  6  5  8  7  3  4  8  6  3  4  6  8  4  7  1  4  4  7\n",
      "  5  6  4  6  4  5  4  5  1  8  7  5  3  6  5  2  6  5  5  2  6  1  5  5  3\n",
      "  7  5  6  6  8  6  5  6  7  4  5  5  5  4  4  4  6  9  4  8  4  3  6  4  7\n",
      "  4  5  3  2  2  6  7  5  4  3  4  5  6  7  6  6  2  7  5  5  4  4  7  5  4\n",
      "  3  4  7  3  6  8  9  3  2  4  3  6  6  5  6  7  2  5  4  4  5  7  6  4  5\n",
      "  5  6  6 10  3  3  3  8  6  4  4  3  4  2  7  5  2  6  5  7  5  4  5  6  5\n",
      "  4  4  3  7  5  7  5  3  7  4  8  7  7  5  5  5  3  1  4  6  5  4  4  5  5\n",
      "  3  8  5  5  4  3  2  5  3  6  4  3  6  6  5  3  7  5  5  3  8  5  3  3  2\n",
      "  5  3  4  4  6  6  8  3  3  2  6  6  3  3  7  6  7  5  6  5  4  2  1  7  5\n",
      "  6  3  7  7  5  7  2  8  6  3  5  2  6  3  2  3  6  6  4  2  5  7  3  5  6\n",
      "  6  5  5  4  8  7  6  4  4  6  4  3  6  6  6  6  6  6  2  7  4  3  5  7  6\n",
      "  6  8  4  5  6  7  5  3  8  5  7  3  4  6  4  1  4  5  3  4  4  6  7  5  5\n",
      "  5  5  4  6  3  8  4  8  6  5  5  5  6  7  7  6  2  5  4  6  3  6  3  7  7\n",
      "  4  7  9  7  5  3  4  8  4  5  7  2  5  5  4  6  5  4  5  4  5  7  5  5  6\n",
      "  8  7  5  5  5  4  4  5  3  6  6  7  2  7  6  7  7  7  7  6  3  6  5  4  5\n",
      "  6  4  4  7  4  7  5  5  5  2  7  7  5  3  3  6  2  4  3  6  6  5  7  5  7\n",
      "  7  8  7  5  4  5  6  2  6  5  2  5  6  5  5  8  5  4  5  5  5  2  4  6  4\n",
      "  6  6  6  3  4  6  6  3  4  2  5  7  5  6  6  5  2  5  6  9  6  5  7  2  6\n",
      "  8  5  6  4  6  8  2  7  5  3  1  7  6  5  4  6  5  4  5  3  5  8  8  5  8\n",
      "  6  6  6  4  7  3  1  3  4  7  3  6  5  5  6  6  4  5  7  7  7  6  6  6  5\n",
      "  4  8  5  6  3  8  4  5  3  6  4  6  5  4  6  4  8  7  4  4  3  4  5  6  8\n",
      "  4  8  5  5  7  6  9  5  6  1  8  8  8  5  6  2  4  5  5  6  4  2  5  8  1\n",
      "  6  4  5  6  4  3  4  3  7  5  4  5  5  6  4  6  6  4  4  5  4  2  6  6  4\n",
      "  4  4  3  5  5 10  2  5  6  6  9  5  5  4  5  6  7  7  3  6  6  4  5  4  4\n",
      "  8  7  5  4  6  4  4  5  5  4  6  8  5  6  5  6  5  4  3  6  3  3  6  6  4\n",
      "  3  7  3  7  4  6  7  8  4  5  7  4  4  4  5  0  3  6  3  6  7  3  4  7  1\n",
      "  2  7  7  5  3  2  4  2  6  3  7  6  4  4  7  7  4  4  3  5  7  6  4  4  6\n",
      "  5  4  5  5  7  6  5  5  7  4  8  6  4  5  4  4  5  0  3  3  6  5  5  7  8\n",
      "  6  8  5  5  8  7  4  5  5  5  3  4  5  6  5  5  5  6  6  3  6  5  5  4  3\n",
      "  5  7  3  6  4  5  4  6  5  8  6  3  4  5  4  6  5  5  5  4  5  3  8  4  3\n",
      "  3  5  4  4  4  3  6  5  5  5  6  3  5  6  6  4  6  4  6  5  3  3  6  2  2\n",
      "  6  5  4  7  6  4  5  1  6  6  3  4  8  4  5  5  4  2  6  4  6  3  4  3  6\n",
      "  6  5  4  4  6  7  4  4  7  6  8  2  4  5  4  4  8  6  6  7  5  6  6  3  4\n",
      "  6  5  7  6  5  6  4  4  5  7  2  4  5  4  5  6  7  6  4  6  3  5  3  1  6]\n"
     ]
    }
   ],
   "source": [
    "from pylab import *\n",
    "import random \n",
    "\n",
    "def main():\n",
    "    bonobo = np.random.binomial(10,0.5,1000)\n",
    "    print(bonobo)\n",
    "    \n",
    "main()"
   ]
  }
 ],
 "metadata": {
  "kernelspec": {
   "display_name": "Python 3",
   "language": "python",
   "name": "python3"
  },
  "language_info": {
   "codemirror_mode": {
    "name": "ipython",
    "version": 3
   },
   "file_extension": ".py",
   "mimetype": "text/x-python",
   "name": "python",
   "nbconvert_exporter": "python",
   "pygments_lexer": "ipython3",
   "version": "3.4.2"
  }
 },
 "nbformat": 4,
 "nbformat_minor": 0
}
