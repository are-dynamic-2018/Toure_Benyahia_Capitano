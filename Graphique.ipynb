{
 "cells": [
  {
   "cell_type": "code",
   "execution_count": 152,
   "metadata": {},
   "outputs": [
    {
     "name": "stdout",
     "output_type": "stream",
     "text": [
      "10\n"
     ]
    }
   ],
   "source": [
    "from tkinter import *\n",
    "from functools import *\n",
    "root = Tk()\n",
    "\n",
    "\n",
    "\n",
    "def fin():\n",
    "    temp = Toplevel(root, width = 2000)\n",
    "    confirmation = Label(temp, text = \"Confirmez vous ces paramètres ?\")\n",
    "    oui = Button(temp, text = \"Valider\", command = temp.destroy and root.destroy)\n",
    "    non = Button(temp, text = \"Retour\", command = temp.destroy)\n",
    "    confirmation.grid(row = 0, column = 0, columnspan = 2) \n",
    "    oui.grid(row = 1, column = 0)\n",
    "    non.grid(row = 1, column = 1)\n",
    "\n",
    "b = Button(root, text=\"Valider\", command=fin, justify = RIGHT) \n",
    "b.grid(row = 4, column = 2)\n",
    "\n",
    "\n",
    "v = IntVar()\n",
    "def update_label(label, var):\n",
    "    \"\"\"\n",
    "    Met à jour le texte de label en fonction de var.\n",
    "    \"\"\"\n",
    "    text = var.get()\n",
    "    label.config(text='color :' + text)\n",
    "\n",
    "choice = ['Une zone', 'Deux zones']\n",
    "choicedefault = StringVar(root, 'Une zone')\n",
    "label_color = Label(root, text='color :' + color.get())\n",
    "\n",
    "for i, value in enumerate(choice, 0):\n",
    "    label = Label(root, text=value)\n",
    "    radiobutton = Radiobutton(root, variable=choicedefault, value=value,\n",
    "                              command=partial(update_label, \n",
    "                                              label_color, \n",
    "                                              color))\n",
    "\n",
    "    label.grid(row=0, column=i)\n",
    "    radiobutton.grid(row=1, column=i)\n",
    "    \n",
    "checkQ1 = Checkbutton(root, text = \"Quarantaine en zone 1\")\n",
    "checkQ2 = Checkbutton(root, text = \"Quarantaine en zone 2\")\n",
    "valueTQ1 = IntVar(root)\n",
    "valueTQ2 = IntVar(root)\n",
    "scaleTQ1 = Scale(root, from_=10, to=50,showvalue=True, label='Sevérité de la quarantaine zone 1',\n",
    "variable=valueTQ1, tickinterval=20, orient='h',length = 200)\n",
    "scaleTQ2 = Scale(root, from_=10, to=50,showvalue=True, label='Sevérité de la quarantaine zone 2',\n",
    "variable=valueTQ2, tickinterval=20, orient='h',length = 200)\n",
    "entryTQ1 = Entry(root, textvariable=valueTQ1)\n",
    "entryTQ2 = Entry(root, textvariable=valueTQ2)\n",
    "scaleTQ1.grid(row= 3, column = 0)\n",
    "checkQ1.grid(row = 2, column = 0)\n",
    "checkQ2.grid(row = 2, column = 1)\n",
    "scaleTQ2.grid(row= 3, column = 1)\n",
    "entryTQ1.grid(row= 4, column = 0)\n",
    "entryTQ2.grid(row= 4, column = 1)\n",
    "\n",
    "\n",
    "root.mainloop()\n",
    "print(valueTQ1.get())"
   ]
  }
 ],
 "metadata": {
  "kernelspec": {
   "display_name": "Python 3",
   "language": "python",
   "name": "python3"
  },
  "language_info": {
   "codemirror_mode": {
    "name": "ipython",
    "version": 3
   },
   "file_extension": ".py",
   "mimetype": "text/x-python",
   "name": "python",
   "nbconvert_exporter": "python",
   "pygments_lexer": "ipython3",
   "version": "3.6.3"
  }
 },
 "nbformat": 4,
 "nbformat_minor": 2
}
