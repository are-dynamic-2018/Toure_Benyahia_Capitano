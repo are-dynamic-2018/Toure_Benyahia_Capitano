{
 "cells": [
  {
   "cell_type": "code",
   "execution_count": 4,
   "metadata": {},
   "outputs": [],
   "source": [
    "from pylab import *\n",
    "import random\n",
    "import math"
   ]
  },
  {
   "cell_type": "code",
   "execution_count": 5,
   "metadata": {},
   "outputs": [],
   "source": [
    "t_inf=1\n",
    "t_gue=0.5\n",
    "t_mort=0\n",
    "d_t=0.01"
   ]
  },
  {
   "cell_type": "code",
   "execution_count": 169,
   "metadata": {},
   "outputs": [
    {
     "data": {
      "image/png": "[encoded data removed]",
      "text/plain": [
       "<matplotlib.figure.Figure at 0x7f6ab226c550>"
      ]
     },
     "metadata": {},
     "output_type": "display_data"
    }
   ],
   "source": [
    "class Pays:\n",
    "    def __init__(self):\n",
    "        self.popt = 100\n",
    "        self.popinf = 2\n",
    "        self.pops = self.popt - self.popinf\n",
    "        self.popimu=0\n",
    "    \n",
    "    \n",
    "#calcul de la probabilité d'infection\n",
    "def prob_inf(pays):\n",
    "    return (t_inf*pays.popinf*pays.pops*d_t)/(pays.popt)\n",
    "    \n",
    "\n",
    "#calcul de la probabilité de guérison\n",
    "def prob_gue(pays):\n",
    "    return t_gue*pays.popinf*d_t\n",
    "\n",
    "\n",
    "#la simulation se fait en posant comme hypothèse que d_t est assez petit pour qu'il y ait à chaque transition au plus un changement d'état\n",
    "def evolution():\n",
    "    france = Pays()\n",
    "    i = 1\n",
    "    tab = []\n",
    "    while (i < 2000):\n",
    " \n",
    "        \n",
    "        tab.append(france.popinf)\n",
    "        france.popinf=france.popinf+np.random.binomial(1,prob_inf(france))\n",
    "        france.pops=france.pops-np.random.binomial(1,prob_inf(france))\n",
    "        france.popinf=france.popinf-np.random.binomial(1,prob_gue(france))\n",
    "        france.popimu=france.popimu+np.random.binomial(1,prob_gue(france))\n",
    "            \n",
    "            \n",
    "            \n",
    "        \n",
    "        i=i+1\n",
    "    plt.plot(tab)\n",
    "    plt.show()\n",
    "\n",
    "evolution()\n"
   ]
  },
  {
   "cell_type": "code",
   "execution_count": null,
   "metadata": {},
   "outputs": [],
   "source": []
  }
 ],
 "metadata": {
  "kernelspec": {
   "display_name": "Python 3",
   "language": "python",
   "name": "python3"
  },
  "language_info": {
   "codemirror_mode": {
    "name": "ipython",
    "version": 3
   },
   "file_extension": ".py",
   "mimetype": "text/x-python",
   "name": "python",
   "nbconvert_exporter": "python",
   "pygments_lexer": "ipython3",
   "version": "3.6.3"
  }
 },
 "nbformat": 4,
 "nbformat_minor": 1
}
